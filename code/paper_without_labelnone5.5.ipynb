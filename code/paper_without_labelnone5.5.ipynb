{
 "cells": [
  {
   "cell_type": "code",
   "execution_count": 10,
   "metadata": {},
   "outputs": [],
   "source": [
    "import pandas as pd\n",
    "from pandas import DataFrame\n",
    "import re"
   ]
  },
  {
   "cell_type": "code",
   "execution_count": 11,
   "metadata": {},
   "outputs": [],
   "source": [
    "df = pd.read_excel('stock_data/stockdata_sentiment_new_withdo1.xlsx')"
   ]
  },
  {
   "cell_type": "code",
   "execution_count": null,
   "metadata": {},
   "outputs": [],
   "source": [
    "dfs = pd.DataFrame()\n",
    "\n",
    "for i, row in df.iterrows():\n",
    "    if row['labeling'] == 0 or row['labeling'] == 1:\n",
    "        dfs = dfs.append(row, ignore_index=True)\n",
    "        \n",
    "dfs = dfs.loc[0:,[\"title\", \"content\", \"cat\", \"tm\", \"code\", \"start_date\", \"start_price\", \"last_date\", \"last_price\", \"labeling\", \"sentiment\"]]\n",
    "dfs.to_excel('stock_data/stockdata_finish_new_total2.xlsx')\n",
    "    \n"
   ]
  },
  {
   "cell_type": "code",
   "execution_count": null,
   "metadata": {},
   "outputs": [],
   "source": []
  }
 ],
 "metadata": {
  "kernelspec": {
   "display_name": "Python 3",
   "language": "python",
   "name": "python3"
  },
  "language_info": {
   "codemirror_mode": {
    "name": "ipython",
    "version": 3
   },
   "file_extension": ".py",
   "mimetype": "text/x-python",
   "name": "python",
   "nbconvert_exporter": "python",
   "pygments_lexer": "ipython3",
   "version": "3.6.10"
  }
 },
 "nbformat": 4,
 "nbformat_minor": 2
}
