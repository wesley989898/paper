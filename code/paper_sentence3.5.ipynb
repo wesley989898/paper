{
 "cells": [
  {
   "cell_type": "code",
   "execution_count": 2,
   "metadata": {},
   "outputs": [],
   "source": [
    "import pandas as pd\n",
    "from pandas import DataFrame\n",
    "import re"
   ]
  },
  {
   "cell_type": "code",
   "execution_count": 3,
   "metadata": {},
   "outputs": [],
   "source": [
    "df = pd.read_excel('stock_data/stockdata_repeat_withdo1.xlsx')\n",
    "\n",
    "l1 = [] #title\n",
    "l2 = [] #content\n",
    "l3 = [] #key\n",
    "l4 = [] #tm\n",
    "l5 = [] #code\n",
    "\n",
    "for i, row in df.iterrows():\n",
    "    if row['unique'] == 1:\n",
    "        content = row['content'].split(\"['\")[1].split(\"']\")[0].replace(\"'\",\"\").replace(\" \",\"\").split(',')\n",
    "        for i in str(content).split('。'):\n",
    "            if re.search(str(row['cat']).strip(), i):\n",
    "                text = i\n",
    "                break\n",
    "    else:\n",
    "        text = row['content']\n",
    "    \n",
    "    l2.extend([text])\n",
    "    l1.extend([row['title']])\n",
    "    l3.extend([row['cat']])\n",
    "    l4.extend([row['tm']])\n",
    "    l5.extend([row['code']])\n",
    "\n",
    "result = DataFrame({'title': l1, 'content': l2, 'cat':l3, 'tm': l4, 'code':l5})\n",
    "result.to_excel('stock_data/stockdata_sentence_withdo1.xlsx')"
   ]
  },
  {
   "cell_type": "code",
   "execution_count": null,
   "metadata": {},
   "outputs": [],
   "source": []
  }
 ],
 "metadata": {
  "kernelspec": {
   "display_name": "Python 3",
   "language": "python",
   "name": "python3"
  },
  "language_info": {
   "codemirror_mode": {
    "name": "ipython",
    "version": 3
   },
   "file_extension": ".py",
   "mimetype": "text/x-python",
   "name": "python",
   "nbconvert_exporter": "python",
   "pygments_lexer": "ipython3",
   "version": "3.7.4"
  }
 },
 "nbformat": 4,
 "nbformat_minor": 2
}
