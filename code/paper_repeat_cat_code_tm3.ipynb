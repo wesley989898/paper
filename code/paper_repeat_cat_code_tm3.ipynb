{
 "cells": [
  {
   "cell_type": "code",
   "execution_count": 1,
   "metadata": {},
   "outputs": [],
   "source": [
    "import pandas as pd\n",
    "from pandas import DataFrame\n",
    "import time\n",
    "from datetime import datetime"
   ]
  },
  {
   "cell_type": "code",
   "execution_count": 2,
   "metadata": {},
   "outputs": [],
   "source": [
    "df = pd.read_excel('stock_data/stock_company.xlsx')\n",
    "dfs = pd.read_excel('stock_data/stockdata_key_withdo1.xlsx')\n",
    "\n",
    "l1 = [] #title\n",
    "l2 = [] #content\n",
    "l3 = [] #key\n",
    "l4 = [] #tm\n",
    "l5 = [] #code\n",
    "l6 = [] #unique\n",
    "\n",
    "for i, row in dfs.iterrows():\n",
    "    unique = 0\n",
    "    category = list(row['cat'].split(','))\n",
    "    \n",
    "    # 判斷是否為唯一文章，用來到下一隻，判斷哪些文章需要斷句\n",
    "    if len(category) == 1: unique = 0\n",
    "    else: unique = 1\n",
    "        \n",
    "    for key in category:\n",
    "        if not key == 'None':\n",
    "            for i, rows in df.iterrows():\n",
    "                if key.strip() == rows['company']:\n",
    "                    time = datetime.fromtimestamp(row['tm']).strftime('%Y/%m/%d') \n",
    "                    l1.extend([row['title']])\n",
    "                    l2.extend([row['content']])\n",
    "                    l3.extend([key])\n",
    "                    l4.extend([time])\n",
    "                    l5.extend([rows['code']])\n",
    "                    l6.extend(str(unique))\n",
    "\n",
    "result = DataFrame({'title': l1, 'content': l2, 'cat':l3, 'tm': l4, 'code':l5, 'unique': l6})\n",
    "result.to_excel('stock_data/stockdata_repeat_withdo1.xlsx')"
   ]
  },
  {
   "cell_type": "code",
   "execution_count": null,
   "metadata": {},
   "outputs": [],
   "source": []
  }
 ],
 "metadata": {
  "kernelspec": {
   "display_name": "Python 3",
   "language": "python",
   "name": "python3"
  },
  "language_info": {
   "codemirror_mode": {
    "name": "ipython",
    "version": 3
   },
   "file_extension": ".py",
   "mimetype": "text/x-python",
   "name": "python",
   "nbconvert_exporter": "python",
   "pygments_lexer": "ipython3",
   "version": "3.7.4"
  }
 },
 "nbformat": 4,
 "nbformat_minor": 2
}
