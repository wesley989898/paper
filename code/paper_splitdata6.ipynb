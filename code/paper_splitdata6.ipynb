{
 "cells": [
  {
   "cell_type": "code",
   "execution_count": 1,
   "metadata": {},
   "outputs": [],
   "source": [
    "import pandas as pd\n",
    "from pandas import DataFrame\n",
    "import re"
   ]
  },
  {
   "cell_type": "code",
   "execution_count": 2,
   "metadata": {},
   "outputs": [],
   "source": [
    "df = pd.read_excel('stock_data/stockdata_finish_total.xlsx')"
   ]
  },
  {
   "cell_type": "code",
   "execution_count": 3,
   "metadata": {},
   "outputs": [],
   "source": [
    "df_train = pd.DataFrame()\n",
    "df_dev = pd.DataFrame()\n",
    "df_test = pd.DataFrame()\n",
    "\n",
    "fifty_company = set(['台泥','亞泥','統一','台塑','南亞','台化','遠東新','中鋼','正新','和泰車','光寶科','聯電','台達電','鴻海','國巨','台積電','華碩','廣達','研華','南亞科','中華電','聯發科','可成','台灣高鐵','彰銀','中壽','華南金','富邦金','國泰金','開發金','玉山金','元大金','兆豐金','台新金','新光金','永豐金','中信金','第一金','統一超','大立光','台灣大','日月光投控','遠傳','和碩','中租-KY','上海商銀','合庫金','台塑化','寶成','豐泰'])\n",
    "\n",
    "one_company = set(['台積電'])\n",
    "\n",
    "###################################################\n",
    "# 第一種分法：全部列入考慮\n",
    "\n",
    "# for i, row in df.iterrows():\n",
    "#     2014-2017\n",
    "#     if re.search(r'2014/|2015/|2016/|2017/', row['tm']):\n",
    "#         df_train = df_train.append(row, ignore_index=True)\n",
    "    \n",
    "#     # 2018\n",
    "#     elif re.search(r'2018/', row['tm']):\n",
    "#         df_dev = df_dev.append(row, ignore_index=True)\n",
    "        \n",
    "#     # 2019/01-2019/06\n",
    "#     elif re.search(r'2019/01|2019/02|2019/03|2019/04|2019/05|2019/06', row['tm']):\n",
    "#         df_test = df_test.append(row, ignore_index=True)\n",
    "        \n",
    "####################################################\n",
    "\n",
    "# 第二種分法：考慮台灣 50\n",
    "\n",
    "for i, row in df.iterrows():\n",
    "    if re.search(r'2014/|2015/|2016/|2017/', row['tm']) and set((row['cat'].replace(' ','').split(' '))) & one_company:\n",
    "        df_train = df_train.append(row, ignore_index=True)\n",
    "    \n",
    "    elif re.search(r'2018/', row['tm']) and set((row['cat'].replace(' ','').split(' '))) & one_company:\n",
    "        df_dev = df_dev.append(row, ignore_index=True)\n",
    "        \n",
    "    elif re.search(r'2019/01|2019/02|2019/03|2019/04|2019/05|2019/06', row['tm']) and set((row['cat'].replace(' ','').split(' '))) & one_company:\n",
    "        df_test = df_test.append(row, ignore_index=True)\n",
    "        \n",
    "###################################################"
   ]
  },
  {
   "cell_type": "code",
   "execution_count": 4,
   "metadata": {},
   "outputs": [],
   "source": [
    "df_train = df_train.loc[0:,[\"title\", \"content\", \"cat\", \"tm\", \"code\", \"start_date\", \"start_price\", \"last_date\", \"last_price\", \"labeling\", \"sentiment\"]]\n",
    "df_train.to_excel('stock_data/stockdata_withdo_onecompany_train.xlsx')\n",
    "df_dev = df_dev.loc[0:,[\"title\", \"content\", \"cat\", \"tm\", \"code\", \"start_date\", \"start_price\", \"last_date\", \"last_price\",\"labeling\", \"sentiment\"]]\n",
    "df_dev.to_excel('stock_data/stockdata_withdo_onecompany_dev.xlsx')\n",
    "df_test = df_test.loc[0:,[\"title\", \"content\", \"cat\", \"tm\", \"code\", \"start_date\", \"start_price\", \"last_date\", \"last_price\",\"labeling\", \"sentiment\"]]\n",
    "df_test.to_excel('stock_data/stockdata_withdo_onecompany_test.xlsx')"
   ]
  },
  {
   "cell_type": "markdown",
   "metadata": {},
   "source": [
    "## 計算 test 佔 \"1\" 的筆數"
   ]
  },
  {
   "cell_type": "code",
   "execution_count": 52,
   "metadata": {},
   "outputs": [
    {
     "name": "stdout",
     "output_type": "stream",
     "text": [
      "0.3970439517697394\n"
     ]
    }
   ],
   "source": [
    "dfs = pd.read_excel('stock_data/stockdata_withdo_onecompany_train')\n",
    "\n",
    "a = 0\n",
    "alldata = 0\n",
    "\n",
    "for i, row in dfs.iterrows():\n",
    "    if row['labeling'] == 0:\n",
    "        a = a + 1\n",
    "    alldata = alldata + 1\n",
    "        \n",
    "print(a/alldata)"
   ]
  },
  {
   "cell_type": "markdown",
   "metadata": {},
   "source": [
    "# 計算文本平均數 中位數"
   ]
  },
  {
   "cell_type": "code",
   "execution_count": 3,
   "metadata": {},
   "outputs": [
    {
     "name": "stdout",
     "output_type": "stream",
     "text": [
      "平均數： 93.34782410903566\n",
      "中位數： 59.0\n"
     ]
    }
   ],
   "source": [
    "import numpy as np\n",
    "\n",
    "df = pd.read_excel('stock_data/stockdata_withdo_train.xlsx')\n",
    "number=[]\n",
    "\n",
    "for i, row in df.iterrows():\n",
    "    xx = 0\n",
    "    for x in row['content'].split(' '):\n",
    "        xx = xx + 1\n",
    "    number.append(xx)\n",
    "    \n",
    "mean = np.mean(number)\n",
    "print('平均數：', mean)\n",
    "\n",
    "median = np.median(number)\n",
    "print('中位數：', median)"
   ]
  },
  {
   "cell_type": "code",
   "execution_count": null,
   "metadata": {},
   "outputs": [],
   "source": []
  }
 ],
 "metadata": {
  "kernelspec": {
   "display_name": "Python 3",
   "language": "python",
   "name": "python3"
  },
  "language_info": {
   "codemirror_mode": {
    "name": "ipython",
    "version": 3
   },
   "file_extension": ".py",
   "mimetype": "text/x-python",
   "name": "python",
   "nbconvert_exporter": "python",
   "pygments_lexer": "ipython3",
   "version": "3.6.10"
  }
 },
 "nbformat": 4,
 "nbformat_minor": 2
}
