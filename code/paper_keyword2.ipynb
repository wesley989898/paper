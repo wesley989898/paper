{
 "cells": [
  {
   "cell_type": "code",
   "execution_count": 1,
   "metadata": {},
   "outputs": [],
   "source": [
    "import pandas as pd\n",
    "from pandas import DataFrame\n",
    "import time"
   ]
  },
  {
   "cell_type": "code",
   "execution_count": 3,
   "metadata": {},
   "outputs": [
    {
     "name": "stdout",
     "output_type": "stream",
     "text": [
      "1000\n",
      "2000\n",
      "3000\n",
      "4000\n",
      "5000\n",
      "6000\n",
      "7000\n",
      "8000\n",
      "9000\n",
      "10000\n",
      "11000\n",
      "12000\n",
      "13000\n",
      "14000\n",
      "15000\n",
      "16000\n",
      "17000\n",
      "18000\n",
      "19000\n",
      "20000\n",
      "21000\n",
      "22000\n",
      "23000\n",
      "24000\n",
      "25000\n",
      "26000\n",
      "27000\n",
      "28000\n",
      "29000\n",
      "30000\n",
      "31000\n",
      "32000\n",
      "33000\n",
      "34000\n",
      "35000\n",
      "36000\n",
      "37000\n",
      "38000\n",
      "39000\n",
      "40000\n",
      "41000\n",
      "42000\n",
      "43000\n",
      "44000\n",
      "45000\n",
      "46000\n",
      "47000\n",
      "48000\n",
      "49000\n",
      "50000\n",
      "51000\n",
      "52000\n",
      "53000\n",
      "54000\n",
      "55000\n",
      "56000\n",
      "57000\n",
      "58000\n",
      "59000\n",
      "60000\n",
      "61000\n"
     ]
    }
   ],
   "source": [
    "df = pd.read_excel('stock_data/stock_company.xlsx')\n",
    "dfs = pd.read_excel('stock_data/stockdata_cut_withdo2.xlsx')\n",
    "\n",
    "l1 = []\n",
    "l2 = []\n",
    "l3 = []\n",
    "l4 = []\n",
    "count=0\n",
    "company = set([x.strip() for x in df['company']])\n",
    "\n",
    "#第一層將每條新聞內文取出，第二層將每條新聞的每個詞取出，第三層每個股市公司都會去比對每個詞是否有符合\n",
    "for i, row in dfs.iterrows():\n",
    "    try:\n",
    "        word_str = set(list(row['content'].split(\"['\")[1].split(\"']\")[0].replace(\"'\",\"\").replace(\" \",\"\").split(',')))\n",
    "        key = ', '.join(company & word_str)\n",
    "        if len(key) == 0: key ='None' #若文章無公司名稱則為None\n",
    "    except:\n",
    "        key = 'None'\n",
    "\n",
    "    l1.extend([row['title']])\n",
    "    l2.extend([row['content']])\n",
    "    l3.extend([key])\n",
    "    l4.extend([row['tm']])\n",
    "    count=count+1\n",
    "    if(count%1000==0):\n",
    "        print(count)\n",
    "    \n",
    "df = DataFrame({'title': l1, 'content': l2, 'cat':l3, 'tm': l4})\n",
    "df.to_excel('stock_data/stockdata_key_withdo2.xlsx')"
   ]
  },
  {
   "cell_type": "code",
   "execution_count": null,
   "metadata": {},
   "outputs": [],
   "source": []
  }
 ],
 "metadata": {
  "kernelspec": {
   "display_name": "Python 3",
   "language": "python",
   "name": "python3"
  },
  "language_info": {
   "codemirror_mode": {
    "name": "ipython",
    "version": 3
   },
   "file_extension": ".py",
   "mimetype": "text/x-python",
   "name": "python",
   "nbconvert_exporter": "python",
   "pygments_lexer": "ipython3",
   "version": "3.6.5"
  }
 },
 "nbformat": 4,
 "nbformat_minor": 2
}
